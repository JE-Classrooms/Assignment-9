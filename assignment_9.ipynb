{
 "cells": [
  {
   "cell_type": "markdown",
   "metadata": {},
   "source": [
    "# Assignment 9"
   ]
  },
  {
   "cell_type": "markdown",
   "metadata": {},
   "source": [
    "**Exercise 1:**\n",
    "\n",
    "- Use psycopg2 and sqlio to generate the following Pandas DataFrame from your local formula1 database:\n",
    "\n",
    "<center><img src=\"table.png\" alt=\"drawing\" width=\"450\"/><center>"
   ]
  },
  {
   "cell_type": "markdown",
   "metadata": {},
   "source": [
    "- Please notice that the columns names and the number of rows should be the same"
   ]
  },
  {
   "cell_type": "code",
   "execution_count": null,
   "metadata": {},
   "outputs": [],
   "source": []
  },
  {
   "cell_type": "markdown",
   "metadata": {},
   "source": [
    "**Exercise 2:**\n",
    "\n",
    "- Use the previous table to produce the following boxplot:\n",
    "\n",
    "<center><img src=\"boxplot.png\" alt=\"drawing\" width=\"450\"/><center>"
   ]
  },
  {
   "cell_type": "markdown",
   "metadata": {},
   "source": [
    "- **Hints:** create a new table where: (1) keep only rows where points are larger than zero and (2) exclude 'Dutch', 'Hong Kong' and 'Russian' constructors \n",
    "\n",
    "- What are the three best constructor nationalities based on the 75 percentile?"
   ]
  },
  {
   "cell_type": "code",
   "execution_count": null,
   "metadata": {},
   "outputs": [],
   "source": []
  },
  {
   "cell_type": "markdown",
   "metadata": {},
   "source": [
    "**Exercise 3:**\n",
    "\n",
    "- Use the previous table to produce the following boxplot:\n",
    "\n",
    "<center><img src=\"boxplot2.png\" alt=\"drawing\" width=\"450\"/><center>"
   ]
  },
  {
   "cell_type": "markdown",
   "metadata": {},
   "source": [
    "- **Hints:** create a new table where: (1) keep only rows where points are larger than zero and (2) create a new variable (I called it \"same_country\") that equals 1 if the ```const_nationality``` string is contained in the ```race_name``` string (check [this](https://stackoverflow.com/questions/43855685/python-pandas-check-if-string-in-one-column-is-contained-in-string-of-another-c) stackoverflow answer to see how to compare the strings from two columns using ```lambda``` functions). \n",
    "\n",
    "- Is there any significant difference in the points that constructors win when they race in their national country versus when they do not?"
   ]
  },
  {
   "cell_type": "code",
   "execution_count": null,
   "metadata": {},
   "outputs": [],
   "source": []
  }
 ],
 "metadata": {
  "kernelspec": {
   "display_name": "Python 3.9.0 ('multilayer')",
   "language": "python",
   "name": "python3"
  },
  "language_info": {
   "name": "python",
   "version": "3.9.0"
  },
  "orig_nbformat": 4,
  "vscode": {
   "interpreter": {
    "hash": "11838f79d2aaadbfa3a2adfaf35bacdebdb4e8d9b63957ddf298964812544a76"
   }
  }
 },
 "nbformat": 4,
 "nbformat_minor": 2
}
